{
 "cells": [
  {
   "cell_type": "code",
   "execution_count": null,
   "id": "54c55089",
   "metadata": {
    "vscode": {
     "languageId": "plaintext"
    }
   },
   "outputs": [],
   "source": [
    "import os\n",
    "import numpy as np\n",
    "import pandas as pd\n",
    "import matplotlib.pyplot as plt\n",
    "import seaborn as sns\n",
    "\n",
    "from src.preprocess import preprocess_image\n",
    "from src.train import train_model\n",
    "from src.evaluate import evaluate_model\n",
    "from src.gradcam import generate_and_save_gradcam\n",
    "\n",
    "from sklearn.preprocessing import MultiLabelBinarizer\n",
    "from sklearn.model_selection import train_test_split"
   ]
  },
  {
   "cell_type": "code",
   "execution_count": null,
   "id": "44adea7b",
   "metadata": {
    "vscode": {
     "languageId": "plaintext"
    }
   },
   "outputs": [],
   "source": [
    "df = pd.read_csv(\"../data/Ground_Truth.csv\")\n",
    "df['image_path'] = df['Image Index'].apply(lambda x: f\"../data/images/{x}\")\n",
    "df['labels'] = df['Finding Labels'].apply(lambda x: x.split('|'))\n",
    "df.head()\n"
   ]
  },
  {
   "cell_type": "code",
   "execution_count": null,
   "id": "b75458f7",
   "metadata": {
    "vscode": {
     "languageId": "plaintext"
    }
   },
   "outputs": [],
   "source": [
    "sample_path = df['image_path'].iloc[0]\n",
    "img = preprocess_image(sample_path)\n",
    "\n",
    "plt.imshow(img.squeeze(), cmap='gray')\n",
    "plt.title(\"Preprocessed Image\")\n",
    "plt.axis('off')\n",
    "plt.show()\n"
   ]
  },
  {
   "cell_type": "code",
   "execution_count": null,
   "id": "0628b21f",
   "metadata": {
    "vscode": {
     "languageId": "plaintext"
    }
   },
   "outputs": [],
   "source": [
    "mlb = MultiLabelBinarizer()\n",
    "Y = mlb.fit_transform(df['labels'])\n",
    "class_names = mlb.classes_\n",
    "\n",
    "train_df, temp_df, y_train, y_temp = train_test_split(df, Y, test_size=0.2, stratify=Y, random_state=42)\n",
    "val_df, test_df, y_val, y_test = train_test_split(temp_df, y_temp, test_size=0.5, stratify=y_temp, random_state=42)\n"
   ]
  },
  {
   "cell_type": "code",
   "execution_count": null,
   "id": "f6700c1e",
   "metadata": {
    "vscode": {
     "languageId": "plaintext"
    }
   },
   "outputs": [],
   "source": [
    "X_train = np.array([preprocess_image(p) for p in train_df['image_path'][:500]])\n",
    "y_train = y_train[:500]\n",
    "\n",
    "X_val = np.array([preprocess_image(p) for p in val_df['image_path'][:100]])\n",
    "y_val = y_val[:100]\n"
   ]
  },
  {
   "cell_type": "code",
   "execution_count": null,
   "id": "32a98c04",
   "metadata": {
    "vscode": {
     "languageId": "plaintext"
    }
   },
   "outputs": [],
   "source": [
    "model, history = train_model(X_train, y_train, X_val, y_val, num_classes=len(class_names))\n"
   ]
  },
  {
   "cell_type": "code",
   "execution_count": null,
   "id": "b4730d34",
   "metadata": {
    "vscode": {
     "languageId": "plaintext"
    }
   },
   "outputs": [],
   "source": [
    "plt.plot(history.history['loss'], label='train loss')\n",
    "plt.plot(history.history['val_loss'], label='val loss')\n",
    "plt.legend()\n",
    "plt.title(\"Loss over Epochs\")\n",
    "plt.show()\n"
   ]
  },
  {
   "cell_type": "code",
   "execution_count": null,
   "id": "d3f081f8",
   "metadata": {
    "vscode": {
     "languageId": "plaintext"
    }
   },
   "outputs": [],
   "source": [
    "X_test = np.array([preprocess_image(p) for p in test_df['image_path'][:100]])\n",
    "y_test_sample = y_test[:100]\n",
    "\n",
    "metrics = evaluate_model(model, X_test, y_test_sample, class_names)\n",
    "print(metrics)\n"
   ]
  },
  {
   "cell_type": "code",
   "execution_count": null,
   "id": "0e910020",
   "metadata": {
    "vscode": {
     "languageId": "plaintext"
    }
   },
   "outputs": [],
   "source": [
    "generate_and_save_gradcam(\n",
    "    model=model,\n",
    "    image_path=test_df['image_path'].iloc[0],\n",
    "    class_index=0,\n",
    "    class_name=class_names[0],\n",
    "    preprocess_fn=preprocess_image\n",
    ")\n"
   ]
  }
 ],
 "metadata": {
  "language_info": {
   "name": "python"
  }
 },
 "nbformat": 4,
 "nbformat_minor": 5
}
